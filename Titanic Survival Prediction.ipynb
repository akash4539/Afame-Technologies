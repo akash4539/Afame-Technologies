{
 "cells": [
  {
   "cell_type": "code",
   "execution_count": 197,
   "id": "38df0483",
   "metadata": {},
   "outputs": [],
   "source": [
    "import numpy as np\n",
    "import pandas as pd\n",
    "import matplotlib.pyplot as plt\n",
    "import warnings\n",
    "warnings.filterwarnings('ignore')"
   ]
  },
  {
   "cell_type": "code",
   "execution_count": 198,
   "id": "84298c66",
   "metadata": {},
   "outputs": [],
   "source": [
    "data = pd.read_csv('Titanic_Dataset.csv')"
   ]
  },
  {
   "cell_type": "code",
   "execution_count": 199,
   "id": "21543483",
   "metadata": {},
   "outputs": [
    {
     "data": {
      "text/html": [
       "<div>\n",
       "<style scoped>\n",
       "    .dataframe tbody tr th:only-of-type {\n",
       "        vertical-align: middle;\n",
       "    }\n",
       "\n",
       "    .dataframe tbody tr th {\n",
       "        vertical-align: top;\n",
       "    }\n",
       "\n",
       "    .dataframe thead th {\n",
       "        text-align: right;\n",
       "    }\n",
       "</style>\n",
       "<table border=\"1\" class=\"dataframe\">\n",
       "  <thead>\n",
       "    <tr style=\"text-align: right;\">\n",
       "      <th></th>\n",
       "      <th>PassengerId</th>\n",
       "      <th>Survived</th>\n",
       "      <th>Pclass</th>\n",
       "      <th>Name</th>\n",
       "      <th>Sex</th>\n",
       "      <th>Age</th>\n",
       "      <th>SibSp</th>\n",
       "      <th>Parch</th>\n",
       "      <th>Ticket</th>\n",
       "      <th>Fare</th>\n",
       "      <th>Cabin</th>\n",
       "      <th>Embarked</th>\n",
       "    </tr>\n",
       "  </thead>\n",
       "  <tbody>\n",
       "    <tr>\n",
       "      <th>0</th>\n",
       "      <td>1</td>\n",
       "      <td>0</td>\n",
       "      <td>3</td>\n",
       "      <td>Braund, Mr. Owen Harris</td>\n",
       "      <td>male</td>\n",
       "      <td>22.0</td>\n",
       "      <td>1</td>\n",
       "      <td>0</td>\n",
       "      <td>A/5 21171</td>\n",
       "      <td>7.2500</td>\n",
       "      <td>NaN</td>\n",
       "      <td>S</td>\n",
       "    </tr>\n",
       "    <tr>\n",
       "      <th>1</th>\n",
       "      <td>2</td>\n",
       "      <td>1</td>\n",
       "      <td>1</td>\n",
       "      <td>Cumings, Mrs. John Bradley (Florence Briggs Th...</td>\n",
       "      <td>female</td>\n",
       "      <td>38.0</td>\n",
       "      <td>1</td>\n",
       "      <td>0</td>\n",
       "      <td>PC 17599</td>\n",
       "      <td>71.2833</td>\n",
       "      <td>C85</td>\n",
       "      <td>C</td>\n",
       "    </tr>\n",
       "    <tr>\n",
       "      <th>2</th>\n",
       "      <td>3</td>\n",
       "      <td>1</td>\n",
       "      <td>3</td>\n",
       "      <td>Heikkinen, Miss. Laina</td>\n",
       "      <td>female</td>\n",
       "      <td>26.0</td>\n",
       "      <td>0</td>\n",
       "      <td>0</td>\n",
       "      <td>STON/O2. 3101282</td>\n",
       "      <td>7.9250</td>\n",
       "      <td>NaN</td>\n",
       "      <td>S</td>\n",
       "    </tr>\n",
       "    <tr>\n",
       "      <th>3</th>\n",
       "      <td>4</td>\n",
       "      <td>1</td>\n",
       "      <td>1</td>\n",
       "      <td>Futrelle, Mrs. Jacques Heath (Lily May Peel)</td>\n",
       "      <td>female</td>\n",
       "      <td>35.0</td>\n",
       "      <td>1</td>\n",
       "      <td>0</td>\n",
       "      <td>113803</td>\n",
       "      <td>53.1000</td>\n",
       "      <td>C123</td>\n",
       "      <td>S</td>\n",
       "    </tr>\n",
       "    <tr>\n",
       "      <th>4</th>\n",
       "      <td>5</td>\n",
       "      <td>0</td>\n",
       "      <td>3</td>\n",
       "      <td>Allen, Mr. William Henry</td>\n",
       "      <td>male</td>\n",
       "      <td>35.0</td>\n",
       "      <td>0</td>\n",
       "      <td>0</td>\n",
       "      <td>373450</td>\n",
       "      <td>8.0500</td>\n",
       "      <td>NaN</td>\n",
       "      <td>S</td>\n",
       "    </tr>\n",
       "    <tr>\n",
       "      <th>...</th>\n",
       "      <td>...</td>\n",
       "      <td>...</td>\n",
       "      <td>...</td>\n",
       "      <td>...</td>\n",
       "      <td>...</td>\n",
       "      <td>...</td>\n",
       "      <td>...</td>\n",
       "      <td>...</td>\n",
       "      <td>...</td>\n",
       "      <td>...</td>\n",
       "      <td>...</td>\n",
       "      <td>...</td>\n",
       "    </tr>\n",
       "    <tr>\n",
       "      <th>886</th>\n",
       "      <td>887</td>\n",
       "      <td>0</td>\n",
       "      <td>2</td>\n",
       "      <td>Montvila, Rev. Juozas</td>\n",
       "      <td>male</td>\n",
       "      <td>27.0</td>\n",
       "      <td>0</td>\n",
       "      <td>0</td>\n",
       "      <td>211536</td>\n",
       "      <td>13.0000</td>\n",
       "      <td>NaN</td>\n",
       "      <td>S</td>\n",
       "    </tr>\n",
       "    <tr>\n",
       "      <th>887</th>\n",
       "      <td>888</td>\n",
       "      <td>1</td>\n",
       "      <td>1</td>\n",
       "      <td>Graham, Miss. Margaret Edith</td>\n",
       "      <td>female</td>\n",
       "      <td>19.0</td>\n",
       "      <td>0</td>\n",
       "      <td>0</td>\n",
       "      <td>112053</td>\n",
       "      <td>30.0000</td>\n",
       "      <td>B42</td>\n",
       "      <td>S</td>\n",
       "    </tr>\n",
       "    <tr>\n",
       "      <th>888</th>\n",
       "      <td>889</td>\n",
       "      <td>0</td>\n",
       "      <td>3</td>\n",
       "      <td>Johnston, Miss. Catherine Helen \"Carrie\"</td>\n",
       "      <td>female</td>\n",
       "      <td>NaN</td>\n",
       "      <td>1</td>\n",
       "      <td>2</td>\n",
       "      <td>W./C. 6607</td>\n",
       "      <td>23.4500</td>\n",
       "      <td>NaN</td>\n",
       "      <td>S</td>\n",
       "    </tr>\n",
       "    <tr>\n",
       "      <th>889</th>\n",
       "      <td>890</td>\n",
       "      <td>1</td>\n",
       "      <td>1</td>\n",
       "      <td>Behr, Mr. Karl Howell</td>\n",
       "      <td>male</td>\n",
       "      <td>26.0</td>\n",
       "      <td>0</td>\n",
       "      <td>0</td>\n",
       "      <td>111369</td>\n",
       "      <td>30.0000</td>\n",
       "      <td>C148</td>\n",
       "      <td>C</td>\n",
       "    </tr>\n",
       "    <tr>\n",
       "      <th>890</th>\n",
       "      <td>891</td>\n",
       "      <td>0</td>\n",
       "      <td>3</td>\n",
       "      <td>Dooley, Mr. Patrick</td>\n",
       "      <td>male</td>\n",
       "      <td>32.0</td>\n",
       "      <td>0</td>\n",
       "      <td>0</td>\n",
       "      <td>370376</td>\n",
       "      <td>7.7500</td>\n",
       "      <td>NaN</td>\n",
       "      <td>Q</td>\n",
       "    </tr>\n",
       "  </tbody>\n",
       "</table>\n",
       "<p>891 rows × 12 columns</p>\n",
       "</div>"
      ],
      "text/plain": [
       "     PassengerId  Survived  Pclass  \\\n",
       "0              1         0       3   \n",
       "1              2         1       1   \n",
       "2              3         1       3   \n",
       "3              4         1       1   \n",
       "4              5         0       3   \n",
       "..           ...       ...     ...   \n",
       "886          887         0       2   \n",
       "887          888         1       1   \n",
       "888          889         0       3   \n",
       "889          890         1       1   \n",
       "890          891         0       3   \n",
       "\n",
       "                                                  Name     Sex   Age  SibSp  \\\n",
       "0                              Braund, Mr. Owen Harris    male  22.0      1   \n",
       "1    Cumings, Mrs. John Bradley (Florence Briggs Th...  female  38.0      1   \n",
       "2                               Heikkinen, Miss. Laina  female  26.0      0   \n",
       "3         Futrelle, Mrs. Jacques Heath (Lily May Peel)  female  35.0      1   \n",
       "4                             Allen, Mr. William Henry    male  35.0      0   \n",
       "..                                                 ...     ...   ...    ...   \n",
       "886                              Montvila, Rev. Juozas    male  27.0      0   \n",
       "887                       Graham, Miss. Margaret Edith  female  19.0      0   \n",
       "888           Johnston, Miss. Catherine Helen \"Carrie\"  female   NaN      1   \n",
       "889                              Behr, Mr. Karl Howell    male  26.0      0   \n",
       "890                                Dooley, Mr. Patrick    male  32.0      0   \n",
       "\n",
       "     Parch            Ticket     Fare Cabin Embarked  \n",
       "0        0         A/5 21171   7.2500   NaN        S  \n",
       "1        0          PC 17599  71.2833   C85        C  \n",
       "2        0  STON/O2. 3101282   7.9250   NaN        S  \n",
       "3        0            113803  53.1000  C123        S  \n",
       "4        0            373450   8.0500   NaN        S  \n",
       "..     ...               ...      ...   ...      ...  \n",
       "886      0            211536  13.0000   NaN        S  \n",
       "887      0            112053  30.0000   B42        S  \n",
       "888      2        W./C. 6607  23.4500   NaN        S  \n",
       "889      0            111369  30.0000  C148        C  \n",
       "890      0            370376   7.7500   NaN        Q  \n",
       "\n",
       "[891 rows x 12 columns]"
      ]
     },
     "execution_count": 199,
     "metadata": {},
     "output_type": "execute_result"
    }
   ],
   "source": [
    "data"
   ]
  },
  {
   "cell_type": "code",
   "execution_count": 200,
   "id": "0deb0538",
   "metadata": {},
   "outputs": [
    {
     "data": {
      "text/plain": [
       "Age         177\n",
       "Cabin       687\n",
       "Embarked      2\n",
       "dtype: int64"
      ]
     },
     "execution_count": 200,
     "metadata": {},
     "output_type": "execute_result"
    }
   ],
   "source": [
    "# Missing Values\n",
    "\n",
    "data.isnull().sum()[data.isnull().sum()!=0]"
   ]
  },
  {
   "cell_type": "code",
   "execution_count": 201,
   "id": "407726b5",
   "metadata": {},
   "outputs": [
    {
     "data": {
      "text/plain": [
       "Pclass\n",
       "1    176\n",
       "2     16\n",
       "3     12\n",
       "Name: count, dtype: int64"
      ]
     },
     "execution_count": 201,
     "metadata": {},
     "output_type": "execute_result"
    }
   ],
   "source": [
    "# we want to check how many not null values in each class.\n",
    "\n",
    "\n",
    "data.loc[data.Cabin.notnull(), \"Pclass\"].value_counts()"
   ]
  },
  {
   "cell_type": "code",
   "execution_count": 202,
   "id": "15def7e1",
   "metadata": {},
   "outputs": [],
   "source": [
    "## Here we can see 176 is not null values  in 1st class, 16 persons is not null values in  2nd class and \n",
    "## 12 not null values in 3rd class."
   ]
  },
  {
   "cell_type": "code",
   "execution_count": 203,
   "id": "0aa31000",
   "metadata": {},
   "outputs": [
    {
     "data": {
      "text/plain": [
       "Cabin\n",
       "B96 B98        4\n",
       "G6             4\n",
       "C23 C25 C27    4\n",
       "C22 C26        3\n",
       "F33            3\n",
       "              ..\n",
       "E34            1\n",
       "C7             1\n",
       "C54            1\n",
       "E36            1\n",
       "C148           1\n",
       "Name: count, Length: 147, dtype: int64"
      ]
     },
     "execution_count": 203,
     "metadata": {},
     "output_type": "execute_result"
    }
   ],
   "source": [
    "data.Cabin.value_counts()"
   ]
  },
  {
   "cell_type": "code",
   "execution_count": 204,
   "id": "87331d79",
   "metadata": {},
   "outputs": [],
   "source": [
    "# Bin the Cabins\n",
    "cabins = data.Cabin.unique()[1:]\n",
    "\n",
    "\n",
    "def cab(x):\n",
    "    if x in cabins:\n",
    "        return(\"Cabin_Allotted\")\n",
    "    else:\n",
    "        return(\"Missing\")"
   ]
  },
  {
   "cell_type": "code",
   "execution_count": 205,
   "id": "6ca3f500",
   "metadata": {},
   "outputs": [],
   "source": [
    "data[\"Cabin_Cat\"] = data.Cabin.apply(cab)"
   ]
  },
  {
   "cell_type": "code",
   "execution_count": 206,
   "id": "7d248b0a",
   "metadata": {},
   "outputs": [
    {
     "data": {
      "text/plain": [
       "(891, 1727)"
      ]
     },
     "execution_count": 206,
     "metadata": {},
     "output_type": "execute_result"
    }
   ],
   "source": [
    "pd.get_dummies(data, drop_first = True).shape"
   ]
  },
  {
   "cell_type": "code",
   "execution_count": 207,
   "id": "dd91cce6",
   "metadata": {},
   "outputs": [
    {
     "data": {
      "text/plain": [
       "<Axes: xlabel='Cabin_Cat'>"
      ]
     },
     "execution_count": 207,
     "metadata": {},
     "output_type": "execute_result"
    },
    {
     "data": {
      "image/png": "[encoded data removed]",
      "text/plain": [
       "<Figure size 640x480 with 1 Axes>"
      ]
     },
     "metadata": {},
     "output_type": "display_data"
    }
   ],
   "source": [
    "# Cabin vs Survived\n",
    "tbl = pd.crosstab(data.Cabin_Cat, data.Survived)\n",
    "\n",
    "tbl.plot(kind = \"bar\")"
   ]
  },
  {
   "cell_type": "raw",
   "id": "95d585b4",
   "metadata": {},
   "source": [
    "## we can see that in cabin allotted more people survived and \n",
    "# in missing more peoples did not survived"
   ]
  },
  {
   "cell_type": "code",
   "execution_count": 208,
   "id": "eb768053",
   "metadata": {},
   "outputs": [],
   "source": [
    "# Parch and Sibsp\n",
    "\n",
    "data[\"Family\"] = data.SibSp+data.Parch+1"
   ]
  },
  {
   "cell_type": "code",
   "execution_count": 209,
   "id": "b6ab3c37",
   "metadata": {},
   "outputs": [
    {
     "data": {
      "text/plain": [
       "array([ 2,  1,  5,  3,  7,  6,  4,  8, 11], dtype=int64)"
      ]
     },
     "execution_count": 209,
     "metadata": {},
     "output_type": "execute_result"
    }
   ],
   "source": [
    "data.Family.unique()"
   ]
  },
  {
   "cell_type": "code",
   "execution_count": 210,
   "id": "2fc9c82c",
   "metadata": {},
   "outputs": [],
   "source": [
    "# 1 Singles, 2 couple 3 small family, >3: Large\n",
    "\n",
    "def fam(x):\n",
    "    if x ==1:\n",
    "        return(\"Solo\")\n",
    "    elif x ==2:\n",
    "        return(\"Couple\")\n",
    "    elif x==3:\n",
    "        return(\"Small_Family\")\n",
    "    else:\n",
    "        return(\"Large_Family\")"
   ]
  },
  {
   "cell_type": "code",
   "execution_count": 211,
   "id": "e65d9de3",
   "metadata": {},
   "outputs": [],
   "source": [
    "data[\"Family_Cat\"] = data.Family.apply(fam)"
   ]
  },
  {
   "cell_type": "code",
   "execution_count": 212,
   "id": "65dc1dd7",
   "metadata": {},
   "outputs": [
    {
     "data": {
      "text/plain": [
       "<Axes: xlabel='Family_Cat'>"
      ]
     },
     "execution_count": 212,
     "metadata": {},
     "output_type": "execute_result"
    },
    {
     "data": {
      "image/png": "[encoded data removed]",
      "text/plain": [
       "<Figure size 640x480 with 1 Axes>"
      ]
     },
     "metadata": {},
     "output_type": "display_data"
    }
   ],
   "source": [
    "tbl = pd.crosstab(data.Family_Cat, data.Survived)\n",
    "\n",
    "tbl.plot(kind = \"bar\")"
   ]
  },
  {
   "cell_type": "raw",
   "id": "1e731ad2",
   "metadata": {},
   "source": [
    "## Here we can see in couples more couples have survived\n",
    "# In Large Family more large family did not survive\n",
    "# In Small Family more have survived\n",
    "# In solo more people did not survive"
   ]
  },
  {
   "cell_type": "code",
   "execution_count": 213,
   "id": "6fc70803",
   "metadata": {},
   "outputs": [
    {
     "data": {
      "text/html": [
       "<div>\n",
       "<style scoped>\n",
       "    .dataframe tbody tr th:only-of-type {\n",
       "        vertical-align: middle;\n",
       "    }\n",
       "\n",
       "    .dataframe tbody tr th {\n",
       "        vertical-align: top;\n",
       "    }\n",
       "\n",
       "    .dataframe thead th {\n",
       "        text-align: right;\n",
       "    }\n",
       "</style>\n",
       "<table border=\"1\" class=\"dataframe\">\n",
       "  <thead>\n",
       "    <tr style=\"text-align: right;\">\n",
       "      <th></th>\n",
       "      <th>count</th>\n",
       "      <th>mean</th>\n",
       "      <th>std</th>\n",
       "      <th>min</th>\n",
       "      <th>25%</th>\n",
       "      <th>50%</th>\n",
       "      <th>75%</th>\n",
       "      <th>max</th>\n",
       "    </tr>\n",
       "    <tr>\n",
       "      <th>Sex</th>\n",
       "      <th></th>\n",
       "      <th></th>\n",
       "      <th></th>\n",
       "      <th></th>\n",
       "      <th></th>\n",
       "      <th></th>\n",
       "      <th></th>\n",
       "      <th></th>\n",
       "    </tr>\n",
       "  </thead>\n",
       "  <tbody>\n",
       "    <tr>\n",
       "      <th>female</th>\n",
       "      <td>261.0</td>\n",
       "      <td>27.915709</td>\n",
       "      <td>14.110146</td>\n",
       "      <td>0.75</td>\n",
       "      <td>18.0</td>\n",
       "      <td>27.0</td>\n",
       "      <td>37.0</td>\n",
       "      <td>63.0</td>\n",
       "    </tr>\n",
       "    <tr>\n",
       "      <th>male</th>\n",
       "      <td>453.0</td>\n",
       "      <td>30.726645</td>\n",
       "      <td>14.678201</td>\n",
       "      <td>0.42</td>\n",
       "      <td>21.0</td>\n",
       "      <td>29.0</td>\n",
       "      <td>39.0</td>\n",
       "      <td>80.0</td>\n",
       "    </tr>\n",
       "  </tbody>\n",
       "</table>\n",
       "</div>"
      ],
      "text/plain": [
       "        count       mean        std   min   25%   50%   75%   max\n",
       "Sex                                                              \n",
       "female  261.0  27.915709  14.110146  0.75  18.0  27.0  37.0  63.0\n",
       "male    453.0  30.726645  14.678201  0.42  21.0  29.0  39.0  80.0"
      ]
     },
     "execution_count": 213,
     "metadata": {},
     "output_type": "execute_result"
    }
   ],
   "source": [
    "data.groupby(\"Sex\")[\"Age\"].describe()"
   ]
  },
  {
   "cell_type": "code",
   "execution_count": 214,
   "id": "35e01cc4",
   "metadata": {},
   "outputs": [],
   "source": [
    "titles = []\n",
    "for i in data.Name:\n",
    "    titles.append(i.split(\",\")[1].split(\". \")[0].strip())"
   ]
  },
  {
   "cell_type": "code",
   "execution_count": 215,
   "id": "8114d816",
   "metadata": {},
   "outputs": [],
   "source": [
    "data[\"titles\"] = pd.Series(titles)"
   ]
  },
  {
   "cell_type": "code",
   "execution_count": 216,
   "id": "d7189d35",
   "metadata": {},
   "outputs": [
    {
     "data": {
      "text/plain": [
       "17"
      ]
     },
     "execution_count": 216,
     "metadata": {},
     "output_type": "execute_result"
    }
   ],
   "source": [
    "data.titles.nunique()"
   ]
  },
  {
   "cell_type": "code",
   "execution_count": 217,
   "id": "5f65c5cd",
   "metadata": {},
   "outputs": [],
   "source": [
    "ignore = ['Don', 'Rev', 'Dr', 'Mme',\n",
    "       'Major', 'Lady', 'Sir', 'Mlle', \n",
    "          'Col', 'Capt', 'the Countess',\n",
    "       'Jonkheer', 'Dona']\n",
    "\n",
    "def dont_need(x):\n",
    "    if x in ignore:\n",
    "        return(\"Others\")\n",
    "    else:\n",
    "        return(x)"
   ]
  },
  {
   "cell_type": "code",
   "execution_count": 218,
   "id": "8c0654bd",
   "metadata": {},
   "outputs": [],
   "source": [
    "data[\"titles\"] = data.titles.apply(dont_need)"
   ]
  },
  {
   "cell_type": "code",
   "execution_count": 219,
   "id": "13c51785",
   "metadata": {},
   "outputs": [
    {
     "data": {
      "text/html": [
       "<div>\n",
       "<style scoped>\n",
       "    .dataframe tbody tr th:only-of-type {\n",
       "        vertical-align: middle;\n",
       "    }\n",
       "\n",
       "    .dataframe tbody tr th {\n",
       "        vertical-align: top;\n",
       "    }\n",
       "\n",
       "    .dataframe thead th {\n",
       "        text-align: right;\n",
       "    }\n",
       "</style>\n",
       "<table border=\"1\" class=\"dataframe\">\n",
       "  <thead>\n",
       "    <tr style=\"text-align: right;\">\n",
       "      <th></th>\n",
       "      <th>count</th>\n",
       "      <th>mean</th>\n",
       "      <th>std</th>\n",
       "      <th>min</th>\n",
       "      <th>25%</th>\n",
       "      <th>50%</th>\n",
       "      <th>75%</th>\n",
       "      <th>max</th>\n",
       "    </tr>\n",
       "    <tr>\n",
       "      <th>titles</th>\n",
       "      <th></th>\n",
       "      <th></th>\n",
       "      <th></th>\n",
       "      <th></th>\n",
       "      <th></th>\n",
       "      <th></th>\n",
       "      <th></th>\n",
       "      <th></th>\n",
       "    </tr>\n",
       "  </thead>\n",
       "  <tbody>\n",
       "    <tr>\n",
       "      <th>Master</th>\n",
       "      <td>36.0</td>\n",
       "      <td>4.574167</td>\n",
       "      <td>3.619872</td>\n",
       "      <td>0.42</td>\n",
       "      <td>1.000</td>\n",
       "      <td>3.5</td>\n",
       "      <td>8.0</td>\n",
       "      <td>12.0</td>\n",
       "    </tr>\n",
       "    <tr>\n",
       "      <th>Miss</th>\n",
       "      <td>146.0</td>\n",
       "      <td>21.773973</td>\n",
       "      <td>12.990292</td>\n",
       "      <td>0.75</td>\n",
       "      <td>14.125</td>\n",
       "      <td>21.0</td>\n",
       "      <td>30.0</td>\n",
       "      <td>63.0</td>\n",
       "    </tr>\n",
       "    <tr>\n",
       "      <th>Mr</th>\n",
       "      <td>398.0</td>\n",
       "      <td>32.368090</td>\n",
       "      <td>12.708793</td>\n",
       "      <td>11.00</td>\n",
       "      <td>23.000</td>\n",
       "      <td>30.0</td>\n",
       "      <td>39.0</td>\n",
       "      <td>80.0</td>\n",
       "    </tr>\n",
       "    <tr>\n",
       "      <th>Mrs</th>\n",
       "      <td>108.0</td>\n",
       "      <td>35.898148</td>\n",
       "      <td>11.433628</td>\n",
       "      <td>14.00</td>\n",
       "      <td>27.750</td>\n",
       "      <td>35.0</td>\n",
       "      <td>44.0</td>\n",
       "      <td>63.0</td>\n",
       "    </tr>\n",
       "    <tr>\n",
       "      <th>Ms</th>\n",
       "      <td>1.0</td>\n",
       "      <td>28.000000</td>\n",
       "      <td>NaN</td>\n",
       "      <td>28.00</td>\n",
       "      <td>28.000</td>\n",
       "      <td>28.0</td>\n",
       "      <td>28.0</td>\n",
       "      <td>28.0</td>\n",
       "    </tr>\n",
       "    <tr>\n",
       "      <th>Others</th>\n",
       "      <td>25.0</td>\n",
       "      <td>42.960000</td>\n",
       "      <td>13.135448</td>\n",
       "      <td>23.00</td>\n",
       "      <td>32.000</td>\n",
       "      <td>45.0</td>\n",
       "      <td>52.0</td>\n",
       "      <td>70.0</td>\n",
       "    </tr>\n",
       "  </tbody>\n",
       "</table>\n",
       "</div>"
      ],
      "text/plain": [
       "        count       mean        std    min     25%   50%   75%   max\n",
       "titles                                                              \n",
       "Master   36.0   4.574167   3.619872   0.42   1.000   3.5   8.0  12.0\n",
       "Miss    146.0  21.773973  12.990292   0.75  14.125  21.0  30.0  63.0\n",
       "Mr      398.0  32.368090  12.708793  11.00  23.000  30.0  39.0  80.0\n",
       "Mrs     108.0  35.898148  11.433628  14.00  27.750  35.0  44.0  63.0\n",
       "Ms        1.0  28.000000        NaN  28.00  28.000  28.0  28.0  28.0\n",
       "Others   25.0  42.960000  13.135448  23.00  32.000  45.0  52.0  70.0"
      ]
     },
     "execution_count": 219,
     "metadata": {},
     "output_type": "execute_result"
    }
   ],
   "source": [
    "data.groupby(\"titles\")[\"Age\"].describe()"
   ]
  },
  {
   "cell_type": "code",
   "execution_count": 220,
   "id": "d7f8cc97",
   "metadata": {},
   "outputs": [],
   "source": [
    "data.loc[(data.Age.isnull()) & \n",
    "             (data.titles == \"Master\"), \"Age\"] = 4\n",
    "\n",
    "data.loc[(data.Age.isnull()) & \n",
    "             (data.titles == \"Miss\"), \"Age\"] = 22\n",
    "\n",
    "data.loc[(data.Age.isnull()) & \n",
    "             (data.titles == \"Mr\"), \"Age\"] = 29\n",
    "\n",
    "data.loc[(data.Age.isnull()) & \n",
    "             (data.titles == \"Mrs\"), \"Age\"] = 35.5\n",
    "\n",
    "data.loc[(data.Age.isnull()) & \n",
    "             (data.titles == \"Ms\"), \"Age\"] = 28\n",
    "\n",
    "data.loc[(data.Age.isnull()) & \n",
    "             (data.titles == \"Others\"), \"Age\"] = 45"
   ]
  },
  {
   "cell_type": "code",
   "execution_count": 221,
   "id": "23a9d17f",
   "metadata": {},
   "outputs": [],
   "source": [
    "data.loc[data.Fare.isnull(), \n",
    "             \"Fare\"] = data.Fare.median()"
   ]
  },
  {
   "cell_type": "code",
   "execution_count": 222,
   "id": "f0901d92",
   "metadata": {},
   "outputs": [],
   "source": [
    "# Embarked\n",
    "data.loc[data.Embarked.isnull(), \"Embarked\"] = \\\n",
    "data.Embarked.mode()[0]"
   ]
  },
  {
   "cell_type": "code",
   "execution_count": 223,
   "id": "b7956e8e",
   "metadata": {},
   "outputs": [],
   "source": [
    "# Drop the Unnecessary columns\n",
    "data.drop([\"PassengerId\", \n",
    "               \"Parch\", \"SibSp\", \n",
    "               \"Name\", \"Cabin\", \"Ticket\"], \n",
    "              axis = 1, inplace = True)"
   ]
  },
  {
   "cell_type": "code",
   "execution_count": 252,
   "id": "3a72fa9c",
   "metadata": {},
   "outputs": [],
   "source": [
    "data['Sex'] = data['Sex'].replace({'female':0,'male':1})\n"
   ]
  },
  {
   "cell_type": "code",
   "execution_count": 225,
   "id": "abb2b55f",
   "metadata": {},
   "outputs": [],
   "source": [
    "data['Sex'] = data['Sex'].astype(int)"
   ]
  },
  {
   "cell_type": "code",
   "execution_count": 231,
   "id": "ff5b2efe",
   "metadata": {},
   "outputs": [
    {
     "data": {
      "text/plain": [
       "array(['S', 'C', 'Q'], dtype=object)"
      ]
     },
     "execution_count": 231,
     "metadata": {},
     "output_type": "execute_result"
    }
   ],
   "source": [
    "data.Embarked.unique()"
   ]
  },
  {
   "cell_type": "code",
   "execution_count": 234,
   "id": "a100c6ad",
   "metadata": {},
   "outputs": [],
   "source": [
    "data['Embarked'] = data['Embarked'].replace({'C':1,'S':2,'Q':3})\n"
   ]
  },
  {
   "cell_type": "code",
   "execution_count": 235,
   "id": "b6c69daf",
   "metadata": {},
   "outputs": [],
   "source": [
    "data['Embarked'] = data['Embarked'].astype(int)"
   ]
  },
  {
   "cell_type": "code",
   "execution_count": 241,
   "id": "18ce2ea5",
   "metadata": {},
   "outputs": [],
   "source": [
    "data['Cabin_Cat'] = data['Cabin_Cat'].replace({'Missing':0,'Cabin_Allotted':1})\n"
   ]
  },
  {
   "cell_type": "code",
   "execution_count": 242,
   "id": "2647e3d3",
   "metadata": {},
   "outputs": [],
   "source": [
    "data['Cabin_Cat'] = data['Cabin_Cat'].astype(int)"
   ]
  },
  {
   "cell_type": "code",
   "execution_count": 243,
   "id": "a4c65560",
   "metadata": {},
   "outputs": [
    {
     "name": "stdout",
     "output_type": "stream",
     "text": [
      "<class 'pandas.core.frame.DataFrame'>\n",
      "RangeIndex: 891 entries, 0 to 890\n",
      "Data columns (total 10 columns):\n",
      " #   Column      Non-Null Count  Dtype  \n",
      "---  ------      --------------  -----  \n",
      " 0   Survived    891 non-null    int64  \n",
      " 1   Pclass      891 non-null    int64  \n",
      " 2   Sex         891 non-null    int32  \n",
      " 3   Age         891 non-null    float64\n",
      " 4   Fare        891 non-null    float64\n",
      " 5   Embarked    891 non-null    int32  \n",
      " 6   Cabin_Cat   891 non-null    int32  \n",
      " 7   Family      891 non-null    int64  \n",
      " 8   Family_Cat  891 non-null    object \n",
      " 9   titles      891 non-null    object \n",
      "dtypes: float64(2), int32(3), int64(3), object(2)\n",
      "memory usage: 59.3+ KB\n"
     ]
    }
   ],
   "source": [
    "data.info()"
   ]
  },
  {
   "cell_type": "code",
   "execution_count": 248,
   "id": "860f68df",
   "metadata": {},
   "outputs": [
    {
     "data": {
      "text/plain": [
       "array(['Mr', 'Mrs', 'Miss', 'Master', 'Others', 'Ms'], dtype=object)"
      ]
     },
     "execution_count": 248,
     "metadata": {},
     "output_type": "execute_result"
    }
   ],
   "source": [
    "data.titles.unique()"
   ]
  },
  {
   "cell_type": "code",
   "execution_count": 249,
   "id": "f65a4211",
   "metadata": {},
   "outputs": [],
   "source": [
    "data['Family_Cat'] = data['Family_Cat'].replace({'Couple':2,'Solo':1,'Large_Family':5,'Small_Family':3})\n",
    "data['titles'] = data['titles'].replace({'Mr':2, 'Mrs':3, 'Miss':4, 'Master':6, 'Others':7, 'Ms':1})\n"
   ]
  },
  {
   "cell_type": "code",
   "execution_count": 250,
   "id": "297851c0",
   "metadata": {},
   "outputs": [],
   "source": [
    "data['Family_Cat'] = data['Family_Cat'].astype(int)\n",
    "data['titles'] = data['titles'].astype(int)"
   ]
  },
  {
   "cell_type": "code",
   "execution_count": 251,
   "id": "ff41169a",
   "metadata": {},
   "outputs": [
    {
     "name": "stdout",
     "output_type": "stream",
     "text": [
      "<class 'pandas.core.frame.DataFrame'>\n",
      "RangeIndex: 891 entries, 0 to 890\n",
      "Data columns (total 10 columns):\n",
      " #   Column      Non-Null Count  Dtype  \n",
      "---  ------      --------------  -----  \n",
      " 0   Survived    891 non-null    int64  \n",
      " 1   Pclass      891 non-null    int64  \n",
      " 2   Sex         891 non-null    int32  \n",
      " 3   Age         891 non-null    float64\n",
      " 4   Fare        891 non-null    float64\n",
      " 5   Embarked    891 non-null    int32  \n",
      " 6   Cabin_Cat   891 non-null    int32  \n",
      " 7   Family      891 non-null    int64  \n",
      " 8   Family_Cat  891 non-null    int32  \n",
      " 9   titles      891 non-null    int32  \n",
      "dtypes: float64(2), int32(5), int64(3)\n",
      "memory usage: 52.3 KB\n"
     ]
    }
   ],
   "source": [
    "data.info()"
   ]
  },
  {
   "cell_type": "code",
   "execution_count": 253,
   "id": "056fdcea",
   "metadata": {},
   "outputs": [
    {
     "data": {
      "text/plain": [
       "((623, 9), (623,), (268, 9), (268,))"
      ]
     },
     "execution_count": 253,
     "metadata": {},
     "output_type": "execute_result"
    }
   ],
   "source": [
    "# Split the Data in Train and Test\n",
    "x = data.drop(columns=['Survived'])\n",
    "y= data['Survived']\n",
    "\n",
    "from sklearn.model_selection import train_test_split\n",
    "\n",
    "xtrain, ytrain, xtest,ytest = train_test_split(x,y,test_size=0.3,random_state=12)\n",
    "\n",
    "xtrain.shape, xtest.shape, ytrain.shape, ytest.shape"
   ]
  },
  {
   "cell_type": "code",
   "execution_count": 254,
   "id": "7df1e858",
   "metadata": {},
   "outputs": [
    {
     "data": {
      "text/plain": [
       "((623, 10), (268, 10))"
      ]
     },
     "execution_count": 254,
     "metadata": {},
     "output_type": "execute_result"
    }
   ],
   "source": [
    "# Split the Data in Train and Test\n",
    "\n",
    "\n",
    "train = data.loc[0:xtrain.shape[0]-1, :]\n",
    "test = data.loc[xtrain.shape[0]:, :]\n",
    "\n",
    "train.shape,test.shape"
   ]
  },
  {
   "cell_type": "code",
   "execution_count": 255,
   "id": "3091dc26",
   "metadata": {},
   "outputs": [],
   "source": [
    "test.drop(\"Survived\", axis = 1, inplace = True)"
   ]
  },
  {
   "cell_type": "markdown",
   "id": "2623a60f",
   "metadata": {},
   "source": [
    "## Statistical Analysis"
   ]
  },
  {
   "cell_type": "code",
   "execution_count": 256,
   "id": "480b6dbd",
   "metadata": {},
   "outputs": [
    {
     "name": "stdout",
     "output_type": "stream",
     "text": [
      "Pclass 6.824644606550509e-14\n",
      "Sex 2.8026604519347837e-43\n",
      "Embarked 0.0009004944795629979\n",
      "Cabin_Cat 4.656434301986769e-12\n",
      "Family_Cat 8.830296235861556e-07\n",
      "titles 3.842818756766538e-42\n"
     ]
    }
   ],
   "source": [
    "input_vars = [\"Pclass\", \"Sex\", \"Embarked\", \n",
    "              \"Cabin_Cat\", \"Family_Cat\", \"titles\"]\n",
    "\n",
    "import scipy.stats as stats\n",
    "\n",
    "# Ho: that the predictors and target are independent. It means\n",
    "# Predictor Variables are not helping in predicting the Survival\n",
    "# Ha: Ho is False\n",
    "\n",
    "for i in input_vars:\n",
    "    tbl = pd.crosstab(data.loc[:, i], train.Survived)\n",
    "    teststats, pvalue, deg, exp_freq = stats.chi2_contingency(tbl)\n",
    "    print(i, pvalue)\n"
   ]
  },
  {
   "cell_type": "code",
   "execution_count": 260,
   "id": "c8f21d0d",
   "metadata": {},
   "outputs": [],
   "source": [
    "# Dummy\n",
    "\n",
    "dummytrain = pd.get_dummies(train, drop_first=True)\n",
    "dummytest = pd.get_dummies(test, drop_first=True)\n",
    "\n",
    "X = dummytrain.drop(\"Survived\", axis = 1)\n",
    "\n",
    "y = dummytrain.Survived"
   ]
  },
  {
   "cell_type": "code",
   "execution_count": 261,
   "id": "8118aa83",
   "metadata": {},
   "outputs": [],
   "source": [
    "from sklearn.linear_model import LogisticRegression\n",
    "\n",
    "logreg = LogisticRegression()\n",
    "\n",
    "pred = logreg.fit(X,y).predict(dummytest)"
   ]
  },
  {
   "cell_type": "code",
   "execution_count": 270,
   "id": "6ef1e5ba",
   "metadata": {},
   "outputs": [],
   "source": [
    "# Submission\n",
    "\n",
    "submission = pd.read_csv(\"gender_submission.csv\")"
   ]
  },
  {
   "cell_type": "code",
   "execution_count": 271,
   "id": "b30e7627",
   "metadata": {},
   "outputs": [],
   "source": [
    "#submission[\"Survived\"]= pred\n",
    "\n",
    "submission[\"Survived\"] = submission.Survived.astype(int)"
   ]
  },
  {
   "cell_type": "code",
   "execution_count": 272,
   "id": "4a2885d9",
   "metadata": {},
   "outputs": [],
   "source": [
    "submission.to_csv(\"NewLogreg_titanic.csv\", index = False)"
   ]
  },
  {
   "cell_type": "code",
   "execution_count": 274,
   "id": "c321961d",
   "metadata": {},
   "outputs": [
    {
     "data": {
      "text/html": [
       "<div>\n",
       "<style scoped>\n",
       "    .dataframe tbody tr th:only-of-type {\n",
       "        vertical-align: middle;\n",
       "    }\n",
       "\n",
       "    .dataframe tbody tr th {\n",
       "        vertical-align: top;\n",
       "    }\n",
       "\n",
       "    .dataframe thead th {\n",
       "        text-align: right;\n",
       "    }\n",
       "</style>\n",
       "<table border=\"1\" class=\"dataframe\">\n",
       "  <thead>\n",
       "    <tr style=\"text-align: right;\">\n",
       "      <th></th>\n",
       "      <th>PassengerId</th>\n",
       "      <th>Survived</th>\n",
       "    </tr>\n",
       "  </thead>\n",
       "  <tbody>\n",
       "    <tr>\n",
       "      <th>0</th>\n",
       "      <td>892</td>\n",
       "      <td>0</td>\n",
       "    </tr>\n",
       "    <tr>\n",
       "      <th>1</th>\n",
       "      <td>893</td>\n",
       "      <td>1</td>\n",
       "    </tr>\n",
       "    <tr>\n",
       "      <th>2</th>\n",
       "      <td>894</td>\n",
       "      <td>0</td>\n",
       "    </tr>\n",
       "    <tr>\n",
       "      <th>3</th>\n",
       "      <td>895</td>\n",
       "      <td>0</td>\n",
       "    </tr>\n",
       "    <tr>\n",
       "      <th>4</th>\n",
       "      <td>896</td>\n",
       "      <td>1</td>\n",
       "    </tr>\n",
       "  </tbody>\n",
       "</table>\n",
       "</div>"
      ],
      "text/plain": [
       "   PassengerId  Survived\n",
       "0          892         0\n",
       "1          893         1\n",
       "2          894         0\n",
       "3          895         0\n",
       "4          896         1"
      ]
     },
     "execution_count": 274,
     "metadata": {},
     "output_type": "execute_result"
    }
   ],
   "source": [
    "submission.head()"
   ]
  },
  {
   "cell_type": "raw",
   "id": "e3e507c1",
   "metadata": {},
   "source": [
    "## Here we can see prediction  of survived peoples "
   ]
  }
 ],
 "metadata": {
  "kernelspec": {
   "display_name": "Python 3 (ipykernel)",
   "language": "python",
   "name": "python3"
  },
  "language_info": {
   "codemirror_mode": {
    "name": "ipython",
    "version": 3
   },
   "file_extension": ".py",
   "mimetype": "text/x-python",
   "name": "python",
   "nbconvert_exporter": "python",
   "pygments_lexer": "ipython3",
   "version": "3.11.5"
  }
 },
 "nbformat": 4,
 "nbformat_minor": 5
}
